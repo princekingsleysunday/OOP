{
 "cells": [
  {
   "cell_type": "code",
   "execution_count": 44,
   "id": "ddbc38e7",
   "metadata": {},
   "outputs": [],
   "source": [
    "class Account:\n",
    "    def __init__(self, account_number, account_balance, account_holder, account_deposit):\n",
    "        self.account_number = account_number\n",
    "        self.account_balance = account_balance\n",
    "        self.account_holder = account_holder\n",
    "        self.account_deposit = account_deposit\n",
    "    \n",
    "    def deposit(self, amount):\n",
    "        self.account_balance += amount\n",
    "        \n",
    "    \n",
    "    def withdraw(self, amount):\n",
    "        if self.account_balance >= amount:\n",
    "            self.account_balance -= amount\n",
    "        else:\n",
    "            print(\"Insufficient balance.\")\n",
    "    \n",
    "    def check_balance(self):\n",
    "        return self.account_balance\n"
   ]
  },
  {
   "cell_type": "code",
   "execution_count": 52,
   "id": "04fed7de",
   "metadata": {},
   "outputs": [],
   "source": [
    "class Account:\n",
    "    def __init__(self, account_number, account_balance, account_holder, account_deposit):\n",
    "        self.account_number = account_number\n",
    "        self.account_balance = account_balance\n",
    "        self.account_holder = account_holder\n",
    "        self.account_deposit = account_deposit\n",
    "       \n",
    "    def deposit(self, amount):\n",
    "        self.account_balance += amount\n",
    "        \n",
    "    def withdraw(self, amount):\n",
    "        if self.account_balance >= amount:\n",
    "            self.account_balance -= amount\n",
    "        else:\n",
    "            print(\"Insufficient balance.\")\n",
    "\n",
    "    def check_balance(self):\n",
    "        return self.account_balance\n",
    "\n",
    "    "
   ]
  },
  {
   "cell_type": "code",
   "execution_count": 53,
   "id": "f7415faf",
   "metadata": {},
   "outputs": [],
   "source": [
    "my_account = Account(\"123456789\", 1000.0, \"John Smith\", 60)\n"
   ]
  },
  {
   "cell_type": "code",
   "execution_count": 54,
   "id": "f983cb83",
   "metadata": {},
   "outputs": [
    {
     "name": "stdout",
     "output_type": "stream",
     "text": [
      "Current balance: 1500.0\n",
      "Current balance: 1300.0\n"
     ]
    }
   ],
   "source": [
    "my_account.deposit(500.0)\n",
    "print(\"Current balance:\", my_account.check_balance())\n",
    "\n",
    "my_account.withdraw(200.0)\n",
    "print(\"Current balance:\", my_account.check_balance())\n"
   ]
  },
  {
   "cell_type": "code",
   "execution_count": null,
   "id": "8444e379",
   "metadata": {},
   "outputs": [],
   "source": []
  },
  {
   "cell_type": "code",
   "execution_count": null,
   "id": "67c920d0",
   "metadata": {},
   "outputs": [],
   "source": []
  }
 ],
 "metadata": {
  "kernelspec": {
   "display_name": "Python 3 (ipykernel)",
   "language": "python",
   "name": "python3"
  },
  "language_info": {
   "codemirror_mode": {
    "name": "ipython",
    "version": 3
   },
   "file_extension": ".py",
   "mimetype": "text/x-python",
   "name": "python",
   "nbconvert_exporter": "python",
   "pygments_lexer": "ipython3",
   "version": "3.9.13"
  }
 },
 "nbformat": 4,
 "nbformat_minor": 5
}
